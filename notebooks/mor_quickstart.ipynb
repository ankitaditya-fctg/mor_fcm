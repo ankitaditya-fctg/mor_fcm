{
  "cells": [
    {
      "cell_type": "markdown",
      "metadata": {},
      "source": [
        "# Mixture-of-Recursions quickstart\n",
        "This notebook mirrors the CLI demo in a lightweight, fully self-contained setting. It configures a tiny Mixture-of-Recursions (MoR) model, runs a few toy training iterations on synthetic data, and finally performs greedy decoding while exposing the router statistics collected during the forward pass.\n"
      ]
    },
    {
      "cell_type": "code",
      "execution_count": null,
      "metadata": {},
      "outputs": [],
      "source": [
        "import torch\n",
        "from mixture_of_recursions import ModelConfig, RouterConfig, TrainConfig, KVConfig, train\n",
        "from mixture_of_recursions.inference import generate\n",
        "torch.manual_seed(42)\n",
        "device = torch.device('cuda' if torch.cuda.is_available() else 'cpu')\n",
        "device\n"
      ]
    },
    {
      "cell_type": "code",
      "execution_count": null,
      "metadata": {},
      "outputs": [],
      "source": [
        "model_config = ModelConfig(\n",
        "    vocab_size=128,\n",
        "    d_model=128,\n",
        "    n_heads=4,\n",
        "    d_ff=256,\n",
        "    n_layers_shared=1,\n",
        "    max_recursions=3,\n",
        "    dropout=0.1,\n",
        ")\n",
        "router_config = RouterConfig(\n",
        "    type='token_choice',\n",
        "    min_depth=1,\n",
        "    max_depth=3,\n",
        "    entropy_reg=0.01,\n",
        "    target_depth=2.0,\n",
        "    depth_penalty=0.05,\n",
        ")\n",
        "train_config = TrainConfig(\n",
        "    seq_len=32,\n",
        "    batch_size=2,\n",
        "    steps=6,\n",
        "    log_interval=2,\n",
        "    device=str(device),\n",
        ")\n",
        "kv_config = KVConfig(mode='share_first')\n",
        "model, val_loss = train(model_config, router_config, train_config, kv_config)\n",
        "val_loss\n"
      ]
    },
    {
      "cell_type": "code",
      "execution_count": null,
      "metadata": {},
      "outputs": [],
      "source": [
        "prompt = 'Mixture-of-Recursions '\n",
        "generated_text, token_depths = generate(model, prompt, tokenizer=None, max_new_tokens=16)\n",
        "generated_text, token_depths\n"
      ]
    },
    {
      "cell_type": "code",
      "execution_count": null,
      "metadata": {},
      "outputs": [],
      "source": [
        "with torch.no_grad():\n",
        "    batch = torch.randint(0, model_config.vocab_size, (1, train_config.seq_len + 1), device=device)\n",
        "    stats = model(batch[:, :-1], labels=batch)\n",
        "stats['router_avg_depth'].item(), stats['router_active'], stats['router_exits']\n"
      ]
    }
  ],
  "metadata": {
    "kernelspec": {
      "display_name": "Python 3",
      "language": "python",
      "name": "python3"
    },
    "language_info": {
      "name": "python",
      "version": "3.10"
    }
  },
  "nbformat": 4,
  "nbformat_minor": 5
}